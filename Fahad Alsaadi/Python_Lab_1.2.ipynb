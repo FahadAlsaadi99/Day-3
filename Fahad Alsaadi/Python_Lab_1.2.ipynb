{
 "cells": [
  {
   "cell_type": "markdown",
   "metadata": {},
   "source": [
    "# Python_Lab_1.2"
   ]
  },
  {
   "cell_type": "markdown",
   "metadata": {},
   "source": [
    "### Task 1: \n",
    "1. Create a tuple with the following details:\n",
    "    - Your favorite movie (string)\n",
    "    - The year it was released (integer)\n",
    "    - Its rating out of 10 (float)\n",
    "    - Whether you have watched it (boolean)\n",
    "2. Print the detailes"
   ]
  },
  {
   "cell_type": "code",
   "execution_count": 4,
   "metadata": {},
   "outputs": [
    {
     "name": "stdout",
     "output_type": "stream",
     "text": [
      "Favorite Movie: Can't Breath\n",
      "Year Released: 2016\n",
      "Rating out of 10: 8.7\n",
      "Have Watched: True\n"
     ]
    }
   ],
   "source": [
    "movie_details = (\"Can't Breath\", 2016, 8.7, True)\n",
    "\n",
    "print(\"Favorite Movie:\", movie_details[0])\n",
    "print(\"Year Released:\", movie_details[1])\n",
    "print(\"Rating out of 10:\", movie_details[2])\n",
    "print(\"Have Watched:\", movie_details[3])\n"
   ]
  },
  {
   "cell_type": "markdown",
   "metadata": {},
   "source": [
    "### Task 2:\n",
    "1. Create a set of 5 favorite colors.\n",
    "2. Print all the colors"
   ]
  },
  {
   "cell_type": "code",
   "execution_count": 6,
   "metadata": {},
   "outputs": [
    {
     "name": "stdout",
     "output_type": "stream",
     "text": [
      "Favorite Colors:\n",
      "White\n",
      "purple\n",
      "Blue\n",
      "Green\n",
      "Red\n"
     ]
    }
   ],
   "source": [
    "favorite_colors = {\"Green\",\"Red\", \"Blue\", \"purple\", \"White\"}\n",
    "\n",
    "print(\"Favorite Colors:\")\n",
    "for x in favorite_colors:\n",
    "    print(x)\n"
   ]
  },
  {
   "cell_type": "markdown",
   "metadata": {},
   "source": [
    "### Task 3:\n",
    "1. Create a dictionary to store information about 3 friends (name as key and a tuple with age and favorite hobby as value).\n",
    "2. Print the details of all friends."
   ]
  },
  {
   "cell_type": "code",
   "execution_count": 10,
   "metadata": {},
   "outputs": [
    {
     "name": "stdout",
     "output_type": "stream",
     "text": [
      "Friends Details:\n",
      "Name: Ahmad\n",
      "Age: 23\n",
      "Favorite Hobby: Reading\n",
      "\n",
      "Name: khaled\n",
      "Age: 30\n",
      "Favorite Hobby: Cycling\n",
      "\n",
      "Name: naif\n",
      "Age: 22\n",
      "Favorite Hobby: Cooking\n",
      "\n"
     ]
    }
   ],
   "source": [
    "friends = {\n",
    "    \"Ahmad\": (23, \"Reading\"),\n",
    "    \"khaled\": (30, \"Cycling\"),\n",
    "    \"naif\": (22, \"Cooking\")\n",
    "}\n",
    "\n",
    "print(\"Friends Details:\")\n",
    "for name, (age, hobby) in friends.items():\n",
    "    print(f\"Name: {name}\")\n",
    "    print(f\"Age: {age}\")\n",
    "    print(f\"Favorite Hobby: {hobby}\")\n",
    "    print() \n"
   ]
  },
  {
   "cell_type": "markdown",
   "metadata": {},
   "source": [
    "### Task 4:\n",
    "1. Check if you have watched the movie and print an appropriate message.\n",
    "1. Check if a specific color is in your favorite colors set and print its availability status."
   ]
  },
  {
   "cell_type": "code",
   "execution_count": 11,
   "metadata": {},
   "outputs": [
    {
     "name": "stdout",
     "output_type": "stream",
     "text": [
      "You have watched the movie.\n",
      "Blue is in your favorite colors set.\n"
     ]
    }
   ],
   "source": [
    "if movie_details[3]:\n",
    "    print(\"You have watched the movie.\")\n",
    "else:\n",
    "    print(\"You have not watched the movie.\")\n",
    "\n",
    "color_to_check = \"Blue\"\n",
    "\n",
    "if color_to_check in favorite_colors:\n",
    "    print(f\"{color_to_check} is in your favorite colors set.\")\n",
    "else:\n",
    "    print(f\"{color_to_check} is not in your favorite colors set.\")\n"
   ]
  },
  {
   "cell_type": "markdown",
   "metadata": {},
   "source": []
  }
 ],
 "metadata": {
  "kernelspec": {
   "display_name": "Python 3 (ipykernel)",
   "language": "python",
   "name": "python3"
  },
  "language_info": {
   "codemirror_mode": {
    "name": "ipython",
    "version": 3
   },
   "file_extension": ".py",
   "mimetype": "text/x-python",
   "name": "python",
   "nbconvert_exporter": "python",
   "pygments_lexer": "ipython3",
   "version": "3.11.7"
  }
 },
 "nbformat": 4,
 "nbformat_minor": 4
}
